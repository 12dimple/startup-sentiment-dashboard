{
 "cells": [
  {
   "cell_type": "code",
   "execution_count": 1,
   "id": "ff05ebfa-3521-49de-801c-5cbb4d7921fe",
   "metadata": {},
   "outputs": [],
   "source": [
    "import requests\n",
    "import pandas as pd\n",
    "from datetime import datetime"
   ]
  },
  {
   "cell_type": "code",
   "execution_count": 2,
   "id": "da247315-769a-4f31-8272-5f8c89ef782b",
   "metadata": {},
   "outputs": [],
   "source": [
    "API_KEY = \"6217a673bce249f5ab55e0b8455f8db1\" \n",
    "url = \"https://newsapi.org/v2/everything\"\n",
    "params = {\n",
    "    'q': 'startup OR funding OR unicorn OR valuation OR series A',\n",
    "    'language': 'en',\n",
    "    'sortBy': 'publishedAt',\n",
    "    'pageSize': 100,  # max per page\n",
    "    'apiKey': API_KEY\n",
    "}\n",
    "response = requests.get(url, params=params)\n",
    "data = response.json()"
   ]
  },
  {
   "cell_type": "code",
   "execution_count": 3,
   "id": "cb8cadd4-4d79-4f40-a512-9fd0d7d5d356",
   "metadata": {},
   "outputs": [],
   "source": [
    "if response.status_code == 200:\n",
    "    articles = data['articles']\n",
    "    df = pd.DataFrame(articles)\n",
    "    df = df[['source', 'title', 'description', 'publishedAt', 'url']]\n",
    "    df['source'] = df['source'].apply(lambda x: x['name'])\n",
    "    df['publishedAt'] = pd.to_datetime(df['publishedAt'])\n",
    "else:\n",
    "    print(\"Error:\", data.get(\"message\", \"Request failed\"))"
   ]
  },
  {
   "cell_type": "code",
   "execution_count": 4,
   "id": "185586ba-e2d5-4a7b-9aef-5f1fa54750fe",
   "metadata": {},
   "outputs": [
    {
     "data": {
      "text/html": [
       "<div>\n",
       "<style scoped>\n",
       "    .dataframe tbody tr th:only-of-type {\n",
       "        vertical-align: middle;\n",
       "    }\n",
       "\n",
       "    .dataframe tbody tr th {\n",
       "        vertical-align: top;\n",
       "    }\n",
       "\n",
       "    .dataframe thead th {\n",
       "        text-align: right;\n",
       "    }\n",
       "</style>\n",
       "<table border=\"1\" class=\"dataframe\">\n",
       "  <thead>\n",
       "    <tr style=\"text-align: right;\">\n",
       "      <th></th>\n",
       "      <th>Source</th>\n",
       "      <th>Title</th>\n",
       "      <th>Description</th>\n",
       "      <th>Published_Date</th>\n",
       "      <th>URL</th>\n",
       "    </tr>\n",
       "  </thead>\n",
       "  <tbody>\n",
       "    <tr>\n",
       "      <th>0</th>\n",
       "      <td>9to5Mac</td>\n",
       "      <td>Apple releases watchOS 26 beta 3, here’s what ...</td>\n",
       "      <td>Apple has released watchOS 26 beta 3 for devel...</td>\n",
       "      <td>2025-07-07 17:13:13+00:00</td>\n",
       "      <td>https://9to5mac.com/2025/07/07/apple-releases-...</td>\n",
       "    </tr>\n",
       "    <tr>\n",
       "      <th>1</th>\n",
       "      <td>GlobeNewswire</td>\n",
       "      <td>National Music Centre Launches Exhibition Hono...</td>\n",
       "      <td>On July 16, National Music Centre will unveil ...</td>\n",
       "      <td>2025-07-07 17:13:00+00:00</td>\n",
       "      <td>https://www.globenewswire.com/news-release/202...</td>\n",
       "    </tr>\n",
       "    <tr>\n",
       "      <th>2</th>\n",
       "      <td>Dazed</td>\n",
       "      <td>Lana del Rey is our First Lady</td>\n",
       "      <td>We went to see the singer at London’s Wembley ...</td>\n",
       "      <td>2025-07-07 17:13:00+00:00</td>\n",
       "      <td>https://www.dazeddigital.com/music/article/681...</td>\n",
       "    </tr>\n",
       "    <tr>\n",
       "      <th>3</th>\n",
       "      <td>KicksOnFire.com</td>\n",
       "      <td>Puma Carina 2.0 Girlpower Wmns White / Silver ...</td>\n",
       "      <td>The Puma Carina 2.0 Girlpower WMNS in White an...</td>\n",
       "      <td>2025-07-07 17:13:00+00:00</td>\n",
       "      <td>https://www.kicksonfire.com/puma-carina-2-0-gi...</td>\n",
       "    </tr>\n",
       "    <tr>\n",
       "      <th>4</th>\n",
       "      <td>Hot Hardware</td>\n",
       "      <td>Porsche 911 Club Debuts As A Members-Only Coll...</td>\n",
       "      <td>Porsche just pulled the wraps off the 2026 Por...</td>\n",
       "      <td>2025-07-07 17:13:00+00:00</td>\n",
       "      <td>https://hothardware.com/news/porsche-911-club-...</td>\n",
       "    </tr>\n",
       "  </tbody>\n",
       "</table>\n",
       "</div>"
      ],
      "text/plain": [
       "            Source                                              Title  \\\n",
       "0          9to5Mac  Apple releases watchOS 26 beta 3, here’s what ...   \n",
       "1    GlobeNewswire  National Music Centre Launches Exhibition Hono...   \n",
       "2            Dazed                     Lana del Rey is our First Lady   \n",
       "3  KicksOnFire.com  Puma Carina 2.0 Girlpower Wmns White / Silver ...   \n",
       "4     Hot Hardware  Porsche 911 Club Debuts As A Members-Only Coll...   \n",
       "\n",
       "                                         Description  \\\n",
       "0  Apple has released watchOS 26 beta 3 for devel...   \n",
       "1  On July 16, National Music Centre will unveil ...   \n",
       "2  We went to see the singer at London’s Wembley ...   \n",
       "3  The Puma Carina 2.0 Girlpower WMNS in White an...   \n",
       "4  Porsche just pulled the wraps off the 2026 Por...   \n",
       "\n",
       "             Published_Date                                                URL  \n",
       "0 2025-07-07 17:13:13+00:00  https://9to5mac.com/2025/07/07/apple-releases-...  \n",
       "1 2025-07-07 17:13:00+00:00  https://www.globenewswire.com/news-release/202...  \n",
       "2 2025-07-07 17:13:00+00:00  https://www.dazeddigital.com/music/article/681...  \n",
       "3 2025-07-07 17:13:00+00:00  https://www.kicksonfire.com/puma-carina-2-0-gi...  \n",
       "4 2025-07-07 17:13:00+00:00  https://hothardware.com/news/porsche-911-club-...  "
      ]
     },
     "execution_count": 4,
     "metadata": {},
     "output_type": "execute_result"
    }
   ],
   "source": [
    "df.columns = ['Source', 'Title', 'Description', 'Published_Date', 'URL']\n",
    "df.head(5)"
   ]
  },
  {
   "cell_type": "code",
   "execution_count": 5,
   "id": "b2400499-603c-440c-b007-4cdb50910bda",
   "metadata": {},
   "outputs": [
    {
     "name": "stdout",
     "output_type": "stream",
     "text": [
      "Saved to startup_news_data.csv\n"
     ]
    }
   ],
   "source": [
    "df.to_csv(\"startup_news_data.csv\", index=False)\n",
    "print(\"Saved to startup_news_data.csv\")"
   ]
  },
  {
   "cell_type": "code",
   "execution_count": 6,
   "id": "8a99d65e-36ec-4cc3-bd7c-7f97085d8bae",
   "metadata": {},
   "outputs": [
    {
     "name": "stdout",
     "output_type": "stream",
     "text": [
      "Collecting textblob\n",
      "  Downloading textblob-0.19.0-py3-none-any.whl.metadata (4.4 kB)\n",
      "Requirement already satisfied: nltk>=3.9 in c:\\users\\dell\\anaconda3\\lib\\site-packages (from textblob) (3.9.1)\n",
      "Requirement already satisfied: click in c:\\users\\dell\\anaconda3\\lib\\site-packages (from nltk>=3.9->textblob) (8.1.8)\n",
      "Requirement already satisfied: joblib in c:\\users\\dell\\anaconda3\\lib\\site-packages (from nltk>=3.9->textblob) (1.4.2)\n",
      "Requirement already satisfied: regex>=2021.8.3 in c:\\users\\dell\\anaconda3\\lib\\site-packages (from nltk>=3.9->textblob) (2024.11.6)\n",
      "Requirement already satisfied: tqdm in c:\\users\\dell\\anaconda3\\lib\\site-packages (from nltk>=3.9->textblob) (4.67.1)\n",
      "Requirement already satisfied: colorama in c:\\users\\dell\\anaconda3\\lib\\site-packages (from click->nltk>=3.9->textblob) (0.4.6)\n",
      "Downloading textblob-0.19.0-py3-none-any.whl (624 kB)\n",
      "   ---------------------------------------- 0.0/624.3 kB ? eta -:--:--\n",
      "   ---------------------------------------- 624.3/624.3 kB 4.9 MB/s eta 0:00:00\n",
      "Installing collected packages: textblob\n",
      "Successfully installed textblob-0.19.0\n"
     ]
    }
   ],
   "source": [
    "!pip install textblob\n",
    "from textblob import TextBlob"
   ]
  },
  {
   "cell_type": "code",
   "execution_count": 7,
   "id": "174b1197-0f4c-4970-84a0-e4b14dd53aa1",
   "metadata": {},
   "outputs": [],
   "source": [
    "# Combine Title and Description for analysis\n",
    "df['Text'] = df['Title'].fillna('') + '. ' + df['Description'].fillna('')\n",
    "\n",
    "# Apply sentiment polarity\n",
    "df['Polarity'] = df['Text'].apply(lambda x: TextBlob(x).sentiment.polarity)"
   ]
  },
  {
   "cell_type": "code",
   "execution_count": 8,
   "id": "1ba78cde-fa1f-407d-844f-e373a1af1089",
   "metadata": {},
   "outputs": [
    {
     "data": {
      "text/html": [
       "<div>\n",
       "<style scoped>\n",
       "    .dataframe tbody tr th:only-of-type {\n",
       "        vertical-align: middle;\n",
       "    }\n",
       "\n",
       "    .dataframe tbody tr th {\n",
       "        vertical-align: top;\n",
       "    }\n",
       "\n",
       "    .dataframe thead th {\n",
       "        text-align: right;\n",
       "    }\n",
       "</style>\n",
       "<table border=\"1\" class=\"dataframe\">\n",
       "  <thead>\n",
       "    <tr style=\"text-align: right;\">\n",
       "      <th></th>\n",
       "      <th>Title</th>\n",
       "      <th>Polarity</th>\n",
       "      <th>Sentiment_Label</th>\n",
       "    </tr>\n",
       "  </thead>\n",
       "  <tbody>\n",
       "    <tr>\n",
       "      <th>0</th>\n",
       "      <td>Apple releases watchOS 26 beta 3, here’s what ...</td>\n",
       "      <td>0.000000</td>\n",
       "      <td>Neutral</td>\n",
       "    </tr>\n",
       "    <tr>\n",
       "      <th>1</th>\n",
       "      <td>National Music Centre Launches Exhibition Hono...</td>\n",
       "      <td>0.166667</td>\n",
       "      <td>Promising</td>\n",
       "    </tr>\n",
       "    <tr>\n",
       "      <th>2</th>\n",
       "      <td>Lana del Rey is our First Lady</td>\n",
       "      <td>0.625000</td>\n",
       "      <td>Promising</td>\n",
       "    </tr>\n",
       "    <tr>\n",
       "      <th>3</th>\n",
       "      <td>Puma Carina 2.0 Girlpower Wmns White / Silver ...</td>\n",
       "      <td>0.033333</td>\n",
       "      <td>Neutral</td>\n",
       "    </tr>\n",
       "    <tr>\n",
       "      <th>4</th>\n",
       "      <td>Porsche 911 Club Debuts As A Members-Only Coll...</td>\n",
       "      <td>0.000000</td>\n",
       "      <td>Neutral</td>\n",
       "    </tr>\n",
       "    <tr>\n",
       "      <th>5</th>\n",
       "      <td>Former Arsenal sporting director Edu joins Forest</td>\n",
       "      <td>0.034091</td>\n",
       "      <td>Neutral</td>\n",
       "    </tr>\n",
       "    <tr>\n",
       "      <th>6</th>\n",
       "      <td>Former rivals place heavy bet on Katie Taylor-...</td>\n",
       "      <td>-0.100000</td>\n",
       "      <td>Neutral</td>\n",
       "    </tr>\n",
       "    <tr>\n",
       "      <th>7</th>\n",
       "      <td>Tom Sawyer Island, Liberty Square Riverboat &amp; ...</td>\n",
       "      <td>-0.100000</td>\n",
       "      <td>At Risk</td>\n",
       "    </tr>\n",
       "    <tr>\n",
       "      <th>8</th>\n",
       "      <td>Nation's longest actively tenured athletic dir...</td>\n",
       "      <td>-0.016667</td>\n",
       "      <td>Neutral</td>\n",
       "    </tr>\n",
       "    <tr>\n",
       "      <th>9</th>\n",
       "      <td>shapez 2 is aiming for the 1.0 update in Novem...</td>\n",
       "      <td>0.254545</td>\n",
       "      <td>Promising</td>\n",
       "    </tr>\n",
       "  </tbody>\n",
       "</table>\n",
       "</div>"
      ],
      "text/plain": [
       "                                               Title  Polarity Sentiment_Label\n",
       "0  Apple releases watchOS 26 beta 3, here’s what ...  0.000000         Neutral\n",
       "1  National Music Centre Launches Exhibition Hono...  0.166667       Promising\n",
       "2                     Lana del Rey is our First Lady  0.625000       Promising\n",
       "3  Puma Carina 2.0 Girlpower Wmns White / Silver ...  0.033333         Neutral\n",
       "4  Porsche 911 Club Debuts As A Members-Only Coll...  0.000000         Neutral\n",
       "5  Former Arsenal sporting director Edu joins Forest  0.034091         Neutral\n",
       "6  Former rivals place heavy bet on Katie Taylor-... -0.100000         Neutral\n",
       "7  Tom Sawyer Island, Liberty Square Riverboat & ... -0.100000         At Risk\n",
       "8  Nation's longest actively tenured athletic dir... -0.016667         Neutral\n",
       "9  shapez 2 is aiming for the 1.0 update in Novem...  0.254545       Promising"
      ]
     },
     "execution_count": 8,
     "metadata": {},
     "output_type": "execute_result"
    }
   ],
   "source": [
    "def label_sentiment(score):\n",
    "    if score > 0.1:\n",
    "        return \"Promising\"\n",
    "    elif score < -0.1:\n",
    "        return \"At Risk\"\n",
    "    else:\n",
    "        return \"Neutral\"\n",
    "\n",
    "df['Sentiment_Label'] = df['Polarity'].apply(label_sentiment)\n",
    "df[['Title', 'Polarity', 'Sentiment_Label']].head(10)"
   ]
  },
  {
   "cell_type": "code",
   "execution_count": 11,
   "id": "6da1b6f6-21b7-4d9e-9dc2-cdd45fd4cd3e",
   "metadata": {},
   "outputs": [],
   "source": [
    "df.to_csv(r\"E:\\startup_insights_project\\startup_sentiment_final.csv\", index=False)"
   ]
  },
  {
   "cell_type": "code",
   "execution_count": 12,
   "id": "b9450462-83dd-4e24-983c-05c73f1207fd",
   "metadata": {},
   "outputs": [
    {
     "name": "stdout",
     "output_type": "stream",
     "text": [
      "Sentiment analysis complete and file saved as 'startup_sentiment_final.csv'\n"
     ]
    }
   ],
   "source": [
    "print(\"Sentiment analysis complete and file saved as 'startup_sentiment_final.csv'\")"
   ]
  },
  {
   "cell_type": "code",
   "execution_count": null,
   "id": "c2581239-026f-4f95-9c25-df5ff661a505",
   "metadata": {},
   "outputs": [],
   "source": []
  }
 ],
 "metadata": {
  "kernelspec": {
   "display_name": "Python [conda env:base] *",
   "language": "python",
   "name": "conda-base-py"
  },
  "language_info": {
   "codemirror_mode": {
    "name": "ipython",
    "version": 3
   },
   "file_extension": ".py",
   "mimetype": "text/x-python",
   "name": "python",
   "nbconvert_exporter": "python",
   "pygments_lexer": "ipython3",
   "version": "3.13.5"
  }
 },
 "nbformat": 4,
 "nbformat_minor": 5
}
